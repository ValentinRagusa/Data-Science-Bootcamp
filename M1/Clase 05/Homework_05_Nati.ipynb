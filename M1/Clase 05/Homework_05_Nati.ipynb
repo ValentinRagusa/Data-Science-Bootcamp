{
 "cells": [
  {
   "cell_type": "markdown",
   "metadata": {},
   "source": [
    "# Práctica Clase 5"
   ]
  },
  {
   "cell_type": "markdown",
   "metadata": {},
   "source": [
    "1) Implementar un juego, que consista en apilar números enteros del 1 al 20, de forma aleatoria, para lo cual debe usarse una estructura de Pila. \n",
    "Luego, el usuario debe elegir un número de veces en que se va a quitar elementos de la pila, los cuales, sumados entre sí, no deben superar el valor de 50.\n",
    "El usuario pierde si la suma supera ese valor. Si no lo supera, gana, pero su calificación será 10 menos el número elementos que falten quitar para todavía no superar 50.\n",
    "El programa debe informar si perdió, y si ganó, con qué calificación lo hizo.\n",
    "\n",
    "Consideraciones:<br>\n",
    "a. Se puede usar la función input() para obtener una entrada de teclado.<br>\n",
    "b. Se puede usar la el modulo random para obtener valores aleatorios."
   ]
  },
  {
   "cell_type": "code",
   "execution_count": 8,
   "metadata": {},
   "outputs": [
    {
     "data": {
      "text/plain": [
       "array([12,  8,  7,  2, 11,  1,  1,  9, 19, 10, 10, 10, 10, 15, 20,  5,  5,\n",
       "       19, 16, 18])"
      ]
     },
     "execution_count": 8,
     "metadata": {},
     "output_type": "execute_result"
    }
   ],
   "source": [
    "import numpy as np\n"
   ]
  },
  {
   "cell_type": "code",
   "execution_count": 41,
   "metadata": {},
   "outputs": [
    {
     "name": "stdout",
     "output_type": "stream",
     "text": [
      "Bienvenido al juego!!!\n",
      "[1, 20, 15, 3, 3, 19, 2, 12, 19, 6, 18, 20, 2, 13, 12, 20, 10, 2, 18, 10]\n",
      "[10, 18]\n",
      "La sumatoria es: 28\n",
      "GANASTE!!\n",
      "El siguiente numero es 2\n",
      "La siguiente suma es 30\n",
      "El siguiente numero es 10\n",
      "La siguiente suma es 40\n",
      "El siguiente numero es 20\n",
      "La siguiente suma es 60\n",
      "Tu puntaje es  8\n"
     ]
    }
   ],
   "source": [
    "seleccionmumeros = np.random.randint(1, high=21, size=20, dtype=int)\n",
    "seleccionmumeros = list(seleccionmumeros)\n",
    "#Pedir al usuario cantidad de numeros\n",
    "print('Bienvenido al juego!!!')\n",
    "n = int(input('Ingrese cantidad de numeros a extraer:'))\n",
    "print(seleccionmumeros)\n",
    "ultimos = []\n",
    "for i in range(n):\n",
    "    ultimos.append(seleccionmumeros.pop())\n",
    "print(ultimos)\n",
    "arreglo_numeros = np.array(ultimos)\n",
    "suma = sum(ultimos)\n",
    "suma2 = 0\n",
    "j = 0\n",
    "print('La sumatoria es:',sum(ultimos))\n",
    "if suma < 50:\n",
    "    print('GANASTE!!')   \n",
    "    while suma2 < 50:\n",
    "        numeroextra = seleccionmumeros.pop()\n",
    "        print('El siguiente numero es',numeroextra)\n",
    "        suma2 = suma + numeroextra\n",
    "        suma = suma2\n",
    "        j = j + 1\n",
    "        print('La siguiente suma es',suma2)\n",
    "    puntaje = 10 - (j - 1)\n",
    "    print('Tu puntaje es ',puntaje)\n",
    "else:\n",
    "    print('Perdiste. La suma es', suma)\n"
   ]
  },
  {
   "cell_type": "markdown",
   "metadata": {},
   "source": [
    "2) Implementar un juego donde constas de 2 jarras, de capacidad 5 y 3 litros respectivamente, y debes colocar 4 litros en la jarra de 5L.\n",
    "Las opciones posibles son:\n",
    "* Llenar la jarra de 3 litros\n",
    "* Llenar la jarra de 5 litros\n",
    "* Vaciar la jarra de 3 litros\n",
    "* Vaciar la jarra de 5 litros\n",
    "* Verter el contenido de la jarra de 3 litros en la de 5 litros\n",
    "* Verter el contenido de la jarra de 5 litros en la de 3 litros"
   ]
  },
  {
   "cell_type": "code",
   "execution_count": 79,
   "metadata": {},
   "outputs": [],
   "source": [
    "\n",
    "class juegojarras:\n",
    "\n",
    "    def __init__(self,):\n",
    "        self.contenidojarra3 = 0\n",
    "        self.contenidojarra5 = 0\n",
    "    \n",
    "    def llenar_jarra3(self):\n",
    "        self.contenidojarra3 = 3\n",
    "    def llenar_jarra5(self):\n",
    "        self.contenidojarra5 = 5\n",
    "    def ver_estado_jarra3(self):\n",
    "        print('La jarra de 3 tiene',self.contenidojarra3, 'litros')\n",
    "    def ver_estado_jarra5(self):\n",
    "        print('La jarra de 5 tiene',self.contenidojarra5, 'litros')\n",
    "    def vaciar_jarra3(self):\n",
    "        self.contenidojarra3 = 0\n",
    "    def vaciar_jarra5(self):\n",
    "        self.contenidojarra5 = 0\n",
    "    def verter_3_a_5(self):\n",
    "        faltante = 5 - self.contenidojarra5\n",
    "        self.contenidojarra5 = self.contenidojarra5 + self.contenidojarra3 \n",
    "        self.contenidojarra3 = self.contenidojarra3 - faltante\n",
    "        if self.contenidojarra3 < 0:\n",
    "            self.contenidojarra3 = 0\n",
    "        if self.contenidojarra5 > 5:\n",
    "            self.contenidojarra5 = 5\n",
    "        if self.contenidojarra5 == 4:\n",
    "            print('GANASTE EL JUEGO')\n",
    "    def verter_5_a_3(self):\n",
    "        faltante = 3 - self.contenidojarra3\n",
    "        self.contenidojarra5 = self.contenidojarra5 - faltante\n",
    "        self.contenidojarra3 = self.contenidojarra3 + self.contenidojarra5\n",
    "        if self.contenidojarra5 < 0:\n",
    "            self.contenidojarra5 = 0\n",
    "        if self.contenidojarra3 > 3:\n",
    "            self.contenidojarra3 = 3    \n",
    "\n",
    "\n",
    "    \n"
   ]
  },
  {
   "cell_type": "code",
   "execution_count": 80,
   "metadata": {},
   "outputs": [
    {
     "name": "stdout",
     "output_type": "stream",
     "text": [
      "La jarra de 5 tiene 3 litros\n",
      "La jarra de 3 tiene 0 litros\n",
      "La jarra de 5 tiene 5 litros\n",
      "La jarra de 3 tiene 1 litros\n",
      "GANASTE EL JUEGO\n",
      "La jarra de 5 tiene 4 litros\n",
      "La jarra de 3 tiene 0 litros\n"
     ]
    }
   ],
   "source": [
    "# Llenar la de 3\n",
    "        # Pasar a la de 5 (queda la de 5 con 3)\n",
    "        # Llenar la de 3\n",
    "        # Pasar a la de 5 (queda la de 5 con 5, la de 3 con 1)\n",
    "        # Tirar la de 5\n",
    "        # Pasar la de 3 a la 5 (queda la de 5 con 1)\n",
    "        # Llenar la de 3 y pasarla a la de 5 (Conseguimos 4 :D)\n",
    "\n",
    "juego = juegojarras()\n",
    "juego.llenar_jarra3()\n",
    "juego.verter_3_a_5()\n",
    "juego.ver_estado_jarra5()\n",
    "juego.ver_estado_jarra3()\n",
    "\n",
    "juego.llenar_jarra3()\n",
    "juego.verter_3_a_5()\n",
    "juego.ver_estado_jarra5()\n",
    "juego.ver_estado_jarra3()\n",
    "\n",
    "\n",
    "juego.vaciar_jarra5()\n",
    "juego.verter_3_a_5()\n",
    "juego.llenar_jarra3()\n",
    "juego.verter_3_a_5()\n",
    "juego.ver_estado_jarra5()\n",
    "juego.ver_estado_jarra3()"
   ]
  }
 ],
 "metadata": {
  "kernelspec": {
   "display_name": "Python 3.9.13 64-bit (microsoft store)",
   "language": "python",
   "name": "python3"
  },
  "language_info": {
   "codemirror_mode": {
    "name": "ipython",
    "version": 3
   },
   "file_extension": ".py",
   "mimetype": "text/x-python",
   "name": "python",
   "nbconvert_exporter": "python",
   "pygments_lexer": "ipython3",
   "version": "3.9.13"
  },
  "vscode": {
   "interpreter": {
    "hash": "330291e952ef2592d61b7857e145d2070e6df96cbb58463d8ee825546f424b29"
   }
  }
 },
 "nbformat": 4,
 "nbformat_minor": 4
}
