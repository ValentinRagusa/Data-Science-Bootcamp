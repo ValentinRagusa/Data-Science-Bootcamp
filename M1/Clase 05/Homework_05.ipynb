{
 "cells": [
  {
   "cell_type": "markdown",
   "metadata": {},
   "source": [
    "# Práctica Clase 5"
   ]
  },
  {
   "cell_type": "markdown",
   "metadata": {},
   "source": [
    "1) Implementar un juego, que consista en apilar números enteros del 1 al 20, de forma aleatoria, para lo cual debe usarse una estructura de Pila. \n",
    "Luego, el usuario debe elegir un número de veces en que se va a quitar elementos de la pila, los cuales, sumados entre sí, no deben superar el valor de 50.\n",
    "El usuario pierde si la suma supera ese valor. Si no lo supera, gana, pero su calificación será 10 menos el número elementos que falten quitar para todavía no superar 50.\n",
    "El programa debe informar si perdió, y si ganó, con qué calificación lo hizo.\n",
    "\n",
    "Consideraciones:<br>\n",
    "a. Se puede usar la función input() para obtener una entrada de teclado.<br>\n",
    "b. Se puede usar la el modulo random para obtener valores aleatorios."
   ]
  },
  {
   "cell_type": "code",
   "execution_count": 10,
   "metadata": {},
   "outputs": [
    {
     "name": "stdout",
     "output_type": "stream",
     "text": [
      "Quitados:  [14, 18, 4, 1, 10]\n",
      "[17, 12, 13, 15, 2, 11, 16, 20, 8, 5, 7, 19, 3, 6, 9]\n",
      "Usted ha ganado! Su puntuación es: 10\n"
     ]
    }
   ],
   "source": [
    "import random\n",
    "import numpy as np\n",
    "\n",
    "class Juego():\n",
    "    def __init__(self):\n",
    "        lista_numeros = []\n",
    "    def puntos(self):# cantidad):\n",
    "        self.puntos = 10\n",
    "        contador = 0\n",
    "\n",
    "        return(self.puntos)\n",
    "\n",
    "\n",
    "    def apilar_numeros(self):\n",
    "        self.lista_numeros = np.arange(1,21)\n",
    "        np.random.shuffle(self.lista_numeros)\n",
    "        #print(self.lista_numeros)\n",
    "        self.lista_numeros = list(self.lista_numeros)\n",
    "    \n",
    "    \n",
    "    def quitar_ultimos(self, cantidad):\n",
    "        quitados = []\n",
    "        for i in range(cantidad):\n",
    "            quitados.append(self.lista_numeros.pop())\n",
    "        print(\"Quitados: \",quitados)\n",
    "\n",
    "        return (quitados)    \n",
    "    def jugar(self, cantidad):\n",
    "        self.apilar_numeros()\n",
    "        quitados =  self.quitar_ultimos(cantidad)\n",
    "        print(self.lista_numeros)\n",
    "        suma = np.sum(quitados)\n",
    "        if suma < 50:\n",
    "            contador = 0 #para restar puntos\n",
    "            suma += self.lista_numeros.pop()\n",
    "            while suma < 50:\n",
    "                contador += 1\n",
    "                suma += self.lista_numeros.pop()  \n",
    "            print(f\"Usted ha ganado! Su puntuación es: {self.puntos()-contador}\")\n",
    "        else:\n",
    "            print(\"Usted ha perdido. :(\")    \n",
    "\n",
    "\n",
    "\n",
    "\n",
    "\n",
    "if __name__ == \"__main__\":\n",
    "    numero = int(input(\"Ingrese la cantidad de numeros que quiere quitar: \"))\n",
    "    juego = Juego()\n",
    "    juego.jugar(numero)\n",
    "\n",
    "\n",
    "    \n"
   ]
  },
  {
   "cell_type": "markdown",
   "metadata": {},
   "source": [
    "2) Implementar un juego donde constas de 2 jarras, de capacidad 5 y 3 litros respectivamente, y debes colocar 4 litros en la jarra de 5L.\n",
    "Las opciones posibles son:\n",
    "* Llenar la jarra de 3 litros\n",
    "* Llenar la jarra de 5 litros\n",
    "* Vaciar la jarra de 3 litros\n",
    "* Vaciar la jarra de 5 litros\n",
    "* Verter el contenido de la jarra de 3 litros en la de 5 litros\n",
    "* Verter el contenido de la jarra de 5 litros en la de 3 litros"
   ]
  },
  {
   "cell_type": "code",
   "execution_count": 11,
   "metadata": {},
   "outputs": [],
   "source": [
    "class JuegoJarras():\n",
    "    def __init__(self):\n",
    "        self.JarraDe5 = 0 #max 5 \n",
    "        self.JarraDe3 = 0 #max 3\n",
    "    \n",
    "    def llenarJarra(self, cantidad_agua):\n",
    "        if type(cantidad_agua) != int:\n",
    "            return {f\"Por favor ingrese un valor entero.\"}\n",
    "        if cantidad_agua != 5 or cantidad_agua != 3:\n",
    "            return {f\"Por favor ingrese una cantidad de agua valida (3 o 5)\"}\n",
    "        else:\n",
    "            if cantidad_agua == 5:\n",
    "                self.JarraDe5 = 5\n",
    "            elif cantidad_agua == 3:\n",
    "                self.JarraDe3 = 3    \n",
    "\n",
    "    def vaciarJarraDe5(self):\n",
    "        self.JarraDe5 = 0\n",
    "\n",
    "    def vaciarJarraDe3(self):\n",
    "        self.JarraDe3 = 0    \n",
    "\n",
    "    def estaLlena(self, jarra):\n",
    "        if jarra == 5:\n",
    "            return self.JarraDe5 == 5\n",
    "        elif jarra == 3:\n",
    "            return self.JarraDe3 == 3    \n",
    "    def VerterEnOtraJarra(self, jarra1, jarra2):\n",
    "        \n",
    "\n",
    "\n",
    "        \n",
    "        \n",
    "        # Llenar la de 3\n",
    "        # Pasar a la de 5 (queda la de 5 con 3)\n",
    "        # Llenar la de 3\n",
    "        # Pasar a la de 5 (queda la de 5 con 5, la de 3 con 1)\n",
    "        # Tirar la de 5\n",
    "        # Pasar la de 3 a la 5 (queda la de 5 con 1)\n",
    "        # Llenar la de 3 y pasarla a la de 5 (Conseguimos 4 :D)\n",
    "\n",
    "\n"
   ]
  },
  {
   "cell_type": "code",
   "execution_count": 6,
   "metadata": {},
   "outputs": [
    {
     "ename": "SyntaxError",
     "evalue": "cannot assign to attribute here. Maybe you meant '==' instead of '='? (960224845.py, line 24)",
     "output_type": "error",
     "traceback": [
      "\u001b[0;36m  Cell \u001b[0;32mIn [6], line 24\u001b[0;36m\u001b[0m\n\u001b[0;31m    if self.__jarra3 = 3:\u001b[0m\n\u001b[0m       ^\u001b[0m\n\u001b[0;31mSyntaxError\u001b[0m\u001b[0;31m:\u001b[0m cannot assign to attribute here. Maybe you meant '==' instead of '='?\n"
     ]
    }
   ],
   "source": [
    "class Juego_de_la_jarra_loca():\n",
    "    def __init__(self):\n",
    "        self.__jarra5 = 0\n",
    "        self.__jarra3 = 0\n",
    "\n",
    "    def llenar_jarra(self, jarra_a_llenar):\n",
    "        if jarra_a_llenar == 3:\n",
    "            if self.__jarra3 != 0:\n",
    "                return {f'La jarra de 3 litros está llena.'}\n",
    "            else:    \n",
    "                self.__jarra3 = 3\n",
    "                return {f'Se llenó la jarra de 3 litros.'}\n",
    "        elif jarra_a_llenar == 5:\n",
    "            if self.__jarra5 != 0:\n",
    "                return {f'La jarra de 5 litros está llena.'}\n",
    "            else:\n",
    "                self.__jarra5 = 5\n",
    "                return {f'Se llenó la jarra de 5 litros.'}\n",
    "        else:\n",
    "            return {f'Ingrese cual jarra quiere llenar (la de 3 o 5 litros).'}\n",
    "    \n",
    "    def vaciar_jarra(self, jarra_a_vaciar):\n",
    "        if jarra_a_vaciar == 3:\n",
    "            if self.__jarra3 = 3:\n",
    "                self.__jarra3 = 0\n",
    "                return f\"Se vació la jarra de 3\"\n",
    "            else:\n",
    "                return f\"La jarra de 3 ya estaba vacía\"\n",
    "    \n",
    "        elif jarra_a_vaciar == 5:\n",
    "            if self.__jarra3 = 5:\n",
    "                self.__jarra3 = 0\n",
    "                return f\"Se vació la jarra de 5\"\n",
    "            else:\n",
    "                return f\"La jarra de 5 ya estaba vacía\"\n",
    "\n",
    "\n",
    "\n",
    "\n",
    "\n",
    "        # Llenar la de 3\n",
    "        # Pasar a la de 5 (queda la de 5 con 3)\n",
    "        # Llenar la de 3\n",
    "        # Pasar a la de 5 (queda la de 5 con 5, la de 3 con 1)\n",
    "        # Tirar la de 5\n",
    "        # Pasar la de 3 a la 5 (queda la de 5 con 1)\n",
    "        # Llenar la de 3 y pasarla a la de 5 (Conseguimos 4 :D)\n",
    "\n",
    "\n",
    "        ##                                                   ;)"
   ]
  }
 ],
 "metadata": {
  "kernelspec": {
   "display_name": "Python 3.10.7 64-bit",
   "language": "python",
   "name": "python3"
  },
  "language_info": {
   "codemirror_mode": {
    "name": "ipython",
    "version": 3
   },
   "file_extension": ".py",
   "mimetype": "text/x-python",
   "name": "python",
   "nbconvert_exporter": "python",
   "pygments_lexer": "ipython3",
   "version": "3.10.7"
  },
  "vscode": {
   "interpreter": {
    "hash": "aee8b7b246df8f9039afb4144a1f6fd8d2ca17a180786b69acc140d282b71a49"
   }
  }
 },
 "nbformat": 4,
 "nbformat_minor": 4
}
