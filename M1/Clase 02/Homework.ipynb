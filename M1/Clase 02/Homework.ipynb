{
 "cells": [
  {
   "cell_type": "markdown",
   "metadata": {},
   "source": [
    "# Práctica Clase 2"
   ]
  },
  {
   "cell_type": "markdown",
   "metadata": {},
   "source": [
    "1) Abrir el archivo \"Emisiones_CO2.csv\" y cargar sus datos en un diccionario."
   ]
  },
  {
   "cell_type": "code",
   "execution_count": 1,
   "metadata": {},
   "outputs": [],
   "source": [
    "import os as os\n",
    "archivo = open(\"Emisiones_CO2.csv\", \"r\", encoding=\"latin-1\")"
   ]
  },
  {
   "cell_type": "code",
   "execution_count": 2,
   "metadata": {},
   "outputs": [],
   "source": [
    "dicc_emisiones = {  'cod_pais' : [],\n",
    "                    'nom_pais' : [],\n",
    "                    'region' : [],\n",
    "                    'anio' : [],\n",
    "                    'co2' : [],\n",
    "                    'co2_percapita' : []}"
   ]
  },
  {
   "cell_type": "code",
   "execution_count": 3,
   "metadata": {},
   "outputs": [],
   "source": [
    "next(archivo)\n",
    "for linea in archivo:\n",
    "    linea = linea.strip()\n",
    "    campos = linea.split(\"|\")\n",
    "    dicc_emisiones['cod_pais'].append(campos[0])\n",
    "    dicc_emisiones['nom_pais'].append(campos[1])\n",
    "    dicc_emisiones['region'].append(campos[2])\n",
    "    dicc_emisiones['anio'].append(campos[3])\n",
    "    dicc_emisiones['co2'].append(campos[4])\n",
    "    dicc_emisiones['co2_percapita'].append(campos[5])"
   ]
  },
  {
   "cell_type": "code",
   "execution_count": 4,
   "metadata": {},
   "outputs": [],
   "source": [
    "archivo.close()"
   ]
  },
  {
   "cell_type": "code",
   "execution_count": 5,
   "metadata": {},
   "outputs": [],
   "source": [
    "llaves = dicc_emisiones.keys()\n",
    "llaves = list(llaves)"
   ]
  },
  {
   "cell_type": "code",
   "execution_count": 6,
   "metadata": {},
   "outputs": [
    {
     "data": {
      "text/plain": [
       "['cod_pais', 'nom_pais', 'region', 'anio', 'co2', 'co2_percapita']"
      ]
     },
     "execution_count": 6,
     "metadata": {},
     "output_type": "execute_result"
    }
   ],
   "source": [
    "llaves"
   ]
  },
  {
   "cell_type": "code",
   "execution_count": 7,
   "metadata": {},
   "outputs": [
    {
     "name": "stdout",
     "output_type": "stream",
     "text": [
      "cod_pais\n",
      "nom_pais\n",
      "region\n",
      "anio\n",
      "co2\n",
      "co2_percapita\n"
     ]
    }
   ],
   "source": [
    "for i in llaves:\n",
    "    print(i)"
   ]
  },
  {
   "cell_type": "markdown",
   "metadata": {},
   "source": [
    "2) a) ¿Cuántas variables hay? <br>"
   ]
  },
  {
   "cell_type": "code",
   "execution_count": 8,
   "metadata": {},
   "outputs": [
    {
     "name": "stdout",
     "output_type": "stream",
     "text": [
      "Tenemos:  6 variables.\n"
     ]
    }
   ],
   "source": [
    "print('Tenemos: ', len(dicc_emisiones.keys()), 'variables.')"
   ]
  },
  {
   "cell_type": "markdown",
   "metadata": {},
   "source": [
    "b) ¿Qué tipos de datos usar para cada una? <br>"
   ]
  },
  {
   "cell_type": "code",
   "execution_count": 9,
   "metadata": {},
   "outputs": [
    {
     "name": "stdout",
     "output_type": "stream",
     "text": [
      "AND\n",
      "<class 'str'>\n",
      "Andorra\n",
      "<class 'str'>\n",
      "Europa y Asia Central\n",
      "<class 'str'>\n",
      "2008\n",
      "<class 'str'>\n",
      "539,049\n",
      "<class 'str'>\n",
      "6,296124556\n",
      "<class 'str'>\n"
     ]
    }
   ],
   "source": [
    "# para calcular las emisiones co2 y co2_pc deben ser floats\n",
    "for i in llaves:\n",
    "    print(dicc_emisiones[i][100])\n",
    "    print(type(dicc_emisiones[i][100]))"
   ]
  },
  {
   "cell_type": "code",
   "execution_count": 10,
   "metadata": {},
   "outputs": [],
   "source": [
    "for indice, elemento in enumerate(dicc_emisiones[\"co2\"]):\n",
    "    elemento = elemento.replace(\".\", \"\")\n",
    "    elemento = elemento.replace(\",\",\".\")\n",
    "    if (elemento != \"\"):\n",
    "        elemento = float(elemento)\n",
    "    else:\n",
    "        elemento = None\n",
    "    dicc_emisiones[\"co2\"][indice] = elemento"
   ]
  },
  {
   "cell_type": "code",
   "execution_count": 11,
   "metadata": {},
   "outputs": [],
   "source": [
    "for indice, elemento in enumerate(dicc_emisiones[\"co2_percapita\"]):\n",
    "    elemento = elemento.replace(\".\", \"\")\n",
    "    elemento = elemento.replace(\",\",\".\")\n",
    "    if (elemento != \"\"):\n",
    "        elemento = float(elemento)\n",
    "    else:\n",
    "        elemento = None\n",
    "    dicc_emisiones[\"co2_percapita\"][indice] = elemento"
   ]
  },
  {
   "cell_type": "code",
   "execution_count": 12,
   "metadata": {},
   "outputs": [
    {
     "name": "stdout",
     "output_type": "stream",
     "text": [
      "539.049\n",
      "6.296124556\n"
     ]
    }
   ],
   "source": [
    "print(dicc_emisiones[\"co2\"][100])\n",
    "print(dicc_emisiones[\"co2_percapita\"][100])\n"
   ]
  },
  {
   "cell_type": "markdown",
   "metadata": {},
   "source": [
    "c) ¿Qué tipo de variables son? <br>"
   ]
  },
  {
   "cell_type": "markdown",
   "metadata": {},
   "source": [
    "<strong>cod_pais</strong>:      Cualitativo Categórico <br>\n",
    "<strong>nom_pais</strong>:      Cualitativo Categórico <br>\n",
    "<strong>region</strong>:        Cualitativo Categórico <br>\n",
    "<strong>anio</strong>:          Cualitativo Ordinal      <br>\n",
    "<strong>co2</strong>:           Cuantitativo Continuo    <br>\n",
    "<strong>co2_percapita</strong>: Cuantitativo Continuo    <br>"
   ]
  },
  {
   "cell_type": "markdown",
   "metadata": {},
   "source": [
    "d) ¿Hay valores faltantes? <br>"
   ]
  },
  {
   "cell_type": "code",
   "execution_count": 13,
   "metadata": {},
   "outputs": [
    {
     "name": "stdout",
     "output_type": "stream",
     "text": [
      "La columna co2 tiene: 2095 valores faltantes.\n"
     ]
    }
   ],
   "source": [
    "contador = 0\n",
    "for i in dicc_emisiones['co2']:\n",
    "    if i == None:\n",
    "        contador += 1\n",
    "print(\"La columna co2 tiene:\", contador, \"valores faltantes.\")"
   ]
  },
  {
   "cell_type": "code",
   "execution_count": 14,
   "metadata": {},
   "outputs": [
    {
     "name": "stdout",
     "output_type": "stream",
     "text": [
      "La columna co2_percapita tiene: 2098 valores faltantes.\n"
     ]
    }
   ],
   "source": [
    "contador = 0\n",
    "for i in dicc_emisiones['co2_percapita']:\n",
    "    if i == None:\n",
    "        contador += 1\n",
    "print(\"La columna co2_percapita tiene:\", contador, \"valores faltantes.\")"
   ]
  },
  {
   "cell_type": "code",
   "execution_count": 15,
   "metadata": {},
   "outputs": [
    {
     "name": "stdout",
     "output_type": "stream",
     "text": [
      "Hay valores faltantes.\n"
     ]
    }
   ],
   "source": [
    "valores_faltantes = False\n",
    "for i in dicc_emisiones.values():\n",
    "    if None in i:\n",
    "        valores_faltantes = True\n",
    "        break\n",
    "    else:\n",
    "        pass\n",
    "if valores_faltantes == True:\n",
    "    print(\"Hay valores faltantes.\")\n",
    "else:\n",
    "    print(\"No hay valores faltantes.\")"
   ]
  },
  {
   "cell_type": "markdown",
   "metadata": {},
   "source": [
    "e) ¿Cuál es el total de emisiones de CO2 para 'América Latina y Caribe' en el año 2010?"
   ]
  },
  {
   "cell_type": "code",
   "execution_count": 16,
   "metadata": {},
   "outputs": [
    {
     "name": "stdout",
     "output_type": "stream",
     "text": [
      "La cantidad de emisiones en América Latina y Caribe en el año 2010 fueron de 1691634.8009999995 kt\n"
     ]
    }
   ],
   "source": [
    "filtro_region = 'América Latina y Caribe'\n",
    "filtro_anio = '2010'\n",
    "emisiones = 0\n",
    "for indice, elemento in enumerate(dicc_emisiones['region']):\n",
    "    if (dicc_emisiones['region'][indice] == filtro_region):\n",
    "        if (dicc_emisiones['anio'][indice] == filtro_anio):\n",
    "            if (dicc_emisiones['co2'][indice] != None):\n",
    "                emisiones += dicc_emisiones['co2'][indice]\n",
    "print('La cantidad de emisiones en', filtro_region, 'en el año', filtro_anio, 'fueron de', emisiones, 'kt')"
   ]
  }
 ],
 "metadata": {
  "kernelspec": {
   "display_name": "Python 3.10.7 64-bit",
   "language": "python",
   "name": "python3"
  },
  "language_info": {
   "codemirror_mode": {
    "name": "ipython",
    "version": 3
   },
   "file_extension": ".py",
   "mimetype": "text/x-python",
   "name": "python",
   "nbconvert_exporter": "python",
   "pygments_lexer": "ipython3",
   "version": "3.10.7"
  },
  "orig_nbformat": 4,
  "vscode": {
   "interpreter": {
    "hash": "aee8b7b246df8f9039afb4144a1f6fd8d2ca17a180786b69acc140d282b71a49"
   }
  }
 },
 "nbformat": 4,
 "nbformat_minor": 2
}
